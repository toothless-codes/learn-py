{
 "cells": [
  {
   "cell_type": "code",
   "execution_count": 2,
   "id": "075f8842",
   "metadata": {},
   "outputs": [],
   "source": [
    "subjects = ['Math', 'English', 'Physics', \"Biology\"]"
   ]
  },
  {
   "cell_type": "code",
   "execution_count": 4,
   "id": "e2172b89",
   "metadata": {},
   "outputs": [
    {
     "name": "stdout",
     "output_type": "stream",
     "text": [
      "Math\n",
      "English\n",
      "Physics\n",
      "Biology\n"
     ]
    }
   ],
   "source": [
    "subjects[:3]\n",
    "\n",
    "for subject in subjects:\n",
    "    print(subject)"
   ]
  }
 ],
 "metadata": {
  "kernelspec": {
   "display_name": "Python 3 (ipykernel)",
   "language": "python",
   "name": "python3"
  },
  "language_info": {
   "codemirror_mode": {
    "name": "ipython",
    "version": 3
   },
   "file_extension": ".py",
   "mimetype": "text/x-python",
   "name": "python",
   "nbconvert_exporter": "python",
   "pygments_lexer": "ipython3",
   "version": "3.11.3"
  }
 },
 "nbformat": 4,
 "nbformat_minor": 5
}
