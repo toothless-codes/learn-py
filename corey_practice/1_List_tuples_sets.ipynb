{
 "cells": [
  {
   "cell_type": "code",
   "execution_count": 57,
   "id": "075f8842",
   "metadata": {},
   "outputs": [
    {
     "name": "stdout",
     "output_type": "stream",
     "text": [
      "[['art', 'coading'], 'Math', 'English', 'Physics', 'Biology']\n",
      "5\n",
      "['art', 'coading']\n",
      "Biology\n"
     ]
    }
   ],
   "source": [
    "subjects = ['Math', 'English', 'Physics', \"Biology\"]\n",
    "subjects_2 = ['art' , 'coading']\n",
    "\n",
    "subjects.insert(0,subjects_2)        # insert= inserting a value in the list in a respective position\n",
    "print(subjects)\n",
    "print(len(subjects))                 # len = tells the no. of values in a list\n",
    "print(subjects[0])                   # 0 = is used as the index for 1st value\n",
    "print(subjects[-1])                  # -1 = the last vale of list, -2 =2nd last value\n"
   ]
  },
  {
   "cell_type": "code",
   "execution_count": 58,
   "id": "e2172b89",
   "metadata": {},
   "outputs": [
    {
     "name": "stdout",
     "output_type": "stream",
     "text": [
      "[['art', 'coading'], 'Math']\n",
      "['art', 'coading']\n",
      "Math\n",
      "English\n",
      "Physics\n",
      "Biology\n"
     ]
    }
   ],
   "source": [
    "subjects[0:2]\n",
    "print(subjects[0:2])\n",
    "for subject in subjects:\n",
    "    print(subject)"
   ]
  },
  {
   "cell_type": "code",
   "execution_count": 60,
   "id": "318ff326",
   "metadata": {},
   "outputs": [
    {
     "name": "stdout",
     "output_type": "stream",
     "text": [
      "[['art', 'coading'], 'Math', 'English', 'Physics']\n"
     ]
    }
   ],
   "source": [
    "subjects.pop()\n",
    "print(subjects)                      # pop = removes the last value from the list by default"
   ]
  },
  {
   "cell_type": "code",
   "execution_count": 59,
   "id": "68fa319b",
   "metadata": {},
   "outputs": [
    {
     "name": "stdout",
     "output_type": "stream",
     "text": [
      "['Math', 'English', 'Physics', 'Biology', ['art', 'coading']]\n"
     ]
    }
   ],
   "source": [
    "subject = ['Math' , 'English' , 'Physics' , 'Biology' ]\n",
    "\n",
    "subject.append(subjects_2)            # append = just add the values in the list\n",
    "print(subject)"
   ]
  },
  {
   "cell_type": "code",
   "execution_count": 64,
   "id": "ff5fb2b8",
   "metadata": {},
   "outputs": [
    {
     "name": "stdout",
     "output_type": "stream",
     "text": [
      "['Math', 'English', 'Physics', 'Biology', 'art', 'coading']\n"
     ]
    }
   ],
   "source": [
    "subject = ['Math' , 'English' , 'Physics' , 'Biology' ]\n",
    "\n",
    "subject.extend(subjects_2)              # extend = add each values saperately into the list\n",
    "print(subject)"
   ]
  },
  {
   "cell_type": "code",
   "execution_count": 66,
   "id": "9914c443",
   "metadata": {},
   "outputs": [
    {
     "name": "stdout",
     "output_type": "stream",
     "text": [
      "['Biology', 'Physics', 'English', 'Math']\n"
     ]
    }
   ],
   "source": [
    "subject = ['Math' , 'English' , 'Physics' , 'Biology' ]\n",
    "\n",
    "subject.reverse()                        # reverse = the list starts with the last value onwards to the first one\n",
    "print(subject)"
   ]
  },
  {
   "cell_type": "code",
   "execution_count": 71,
   "id": "72810b45",
   "metadata": {},
   "outputs": [
    {
     "name": "stdout",
     "output_type": "stream",
     "text": [
      "['Biology', 'English', 'Math', 'Physics']\n",
      "[1, 2, 3, 4, 5, 7, 8, 9]\n"
     ]
    }
   ],
   "source": [
    "subject = ['Math' , 'English' , 'Physics' , 'Biology' ]\n",
    "num = [1, 8, 5, 9, 3, 7, 2, 4]\n",
    "\n",
    "subject.sort()\n",
    "num.sort()\n",
    "\n",
    "print(subject)\n",
    "print(num)"
   ]
  },
  {
   "cell_type": "code",
   "execution_count": 90,
   "id": "0035e56a",
   "metadata": {},
   "outputs": [
    {
     "name": "stdout",
     "output_type": "stream",
     "text": [
      "Math\n",
      "English\n",
      "Physics\n",
      "Biology\n"
     ]
    }
   ],
   "source": [
    "subject = ['Math' , 'English' , 'Physics' , 'Biology' ]\n",
    "for items in subject:\n",
    "    print(items)"
   ]
  },
  {
   "cell_type": "code",
   "execution_count": 82,
   "id": "3be1b26e",
   "metadata": {},
   "outputs": [
    {
     "name": "stdout",
     "output_type": "stream",
     "text": [
      "['Biology', 'English', 'Math', 'Physics']\n"
     ]
    }
   ],
   "source": [
    "sorted_course = sorted(subject)            # here sorted_course is a function\n",
    "print(sorted_course)\n"
   ]
  },
  {
   "cell_type": "code",
   "execution_count": 87,
   "id": "165a2f76",
   "metadata": {},
   "outputs": [
    {
     "name": "stdout",
     "output_type": "stream",
     "text": [
      "38\n",
      "1\n",
      "9\n"
     ]
    }
   ],
   "source": [
    "num =[1, 6, 8, 5, 3, 9, 4, 2]\n",
    "print(sum(num))                             # sum = will add all the values in the list\n",
    "print(min(num))                             # min = minimum value in the list\n",
    "print(max(num))                             # max = maximum value in the list"
   ]
  },
  {
   "cell_type": "code",
   "execution_count": null,
   "id": "da17efa5",
   "metadata": {},
   "outputs": [],
   "source": []
  }
 ],
 "metadata": {
  "kernelspec": {
   "display_name": "Python 3 (ipykernel)",
   "language": "python",
   "name": "python3"
  },
  "language_info": {
   "codemirror_mode": {
    "name": "ipython",
    "version": 3
   },
   "file_extension": ".py",
   "mimetype": "text/x-python",
   "name": "python",
   "nbconvert_exporter": "python",
   "pygments_lexer": "ipython3",
   "version": "3.11.3"
  }
 },
 "nbformat": 4,
 "nbformat_minor": 5
}
